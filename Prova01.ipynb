{
 "cells": [
  {
   "cell_type": "code",
   "execution_count": 7,
   "id": "2ea9f5fa-59d6-4231-b82c-ac97946e620d",
   "metadata": {},
   "outputs": [],
   "source": [
    "class No:\n",
    "    def __init__(self, valor):\n",
    "        self.valor = valor\n",
    "        self.proximo = None\n",
    "\n",
    "class ListaEncadeada:\n",
    "    def __init__(self):\n",
    "        self.inicio = None\n",
    "\n",
    "    def inserir(self, valor):\n",
    "        novo_no = No(valor)\n",
    "        if self.inicio is None:\n",
    "            self.inicio = novo_no\n",
    "        else:\n",
    "            atual = self.inicio\n",
    "            while atual.proximo:\n",
    "                atual = atual.proximo\n",
    "            atual.proximo = novo_no\n",
    "\n",
    "    def contar(self):\n",
    "        contador = 0\n",
    "        if self.inicio is None:\n",
    "            return 'A lista está vazia.'\n",
    "            \n",
    "        atual = self.inicio\n",
    "        while atual is not None:\n",
    "            contador += 1\n",
    "            atual = atual.proximo\n",
    "        return contador"
   ]
  },
  {
   "cell_type": "code",
   "execution_count": 8,
   "id": "05b4eb81-945b-4640-b720-e98ffda72cf8",
   "metadata": {},
   "outputs": [],
   "source": [
    "l = ListaEncadeada()"
   ]
  },
  {
   "cell_type": "code",
   "execution_count": 9,
   "id": "74125134-01ec-414e-b335-40e9f38df48e",
   "metadata": {},
   "outputs": [
    {
     "data": {
      "text/plain": [
       "__main__.ListaEncadeada"
      ]
     },
     "execution_count": 9,
     "metadata": {},
     "output_type": "execute_result"
    }
   ],
   "source": [
    "type(l)"
   ]
  },
  {
   "cell_type": "code",
   "execution_count": 10,
   "id": "2a2a0e28-e05b-4ef0-86a3-1a3f4f643109",
   "metadata": {},
   "outputs": [],
   "source": [
    "l.inserir(5)"
   ]
  },
  {
   "cell_type": "code",
   "execution_count": 11,
   "id": "1f818bd3-30d7-469d-a9d5-658424896f3f",
   "metadata": {},
   "outputs": [],
   "source": [
    "l.inserir(15)"
   ]
  },
  {
   "cell_type": "code",
   "execution_count": 12,
   "id": "3ea60ad2-518e-4bb8-88fc-7e6e77c4a9a4",
   "metadata": {},
   "outputs": [],
   "source": [
    "l.inserir(25)"
   ]
  },
  {
   "cell_type": "code",
   "execution_count": 14,
   "id": "3f06da58-7132-44ae-8d5f-f7b07e1ced32",
   "metadata": {},
   "outputs": [
    {
     "name": "stdout",
     "output_type": "stream",
     "text": [
      "3\n"
     ]
    }
   ],
   "source": [
    "print(l.contar())"
   ]
  }
 ],
 "metadata": {
  "kernelspec": {
   "display_name": "Python 3 (ipykernel)",
   "language": "python",
   "name": "python3"
  },
  "language_info": {
   "codemirror_mode": {
    "name": "ipython",
    "version": 3
   },
   "file_extension": ".py",
   "mimetype": "text/x-python",
   "name": "python",
   "nbconvert_exporter": "python",
   "pygments_lexer": "ipython3",
   "version": "3.13.5"
  }
 },
 "nbformat": 4,
 "nbformat_minor": 5
}
